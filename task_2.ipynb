{
 "cells": [
  {
   "cell_type": "code",
   "execution_count": null,
   "id": "initial_id",
   "metadata": {
    "collapsed": true
   },
   "outputs": [],
   "source": [
    "import pandas as pd\n",
    "\n",
    "df = pd.read_csv('fifa_s2_v2.csv')"
   ]
  },
  {
   "cell_type": "code",
   "outputs": [],
   "source": [
    "df = df.apply(lambda x: x.str.lower() if x.dtype == 'object' else x)"
   ],
   "metadata": {
    "collapsed": false,
    "ExecuteTime": {
     "end_time": "2024-03-15T10:47:40.340977Z",
     "start_time": "2024-03-15T10:47:40.334161Z"
    }
   },
   "id": "8d0ecfae3d3c0950",
   "execution_count": 44
  },
  {
   "cell_type": "code",
   "outputs": [
    {
     "data": {
      "text/plain": "          ID           Name  Age  Nationality  Overall  Potential  \\\n0       1179      g. buffon   40        italy       88         88   \n1       8205          braga   35     portugal       70         70   \n2       9014      a. robben   34  netherlands       84         84   \n3      19521      j. ibehre   35      england       61         61   \n4      20209  ricardo costa   37     portugal       74         74   \n...      ...            ...  ...          ...      ...        ...   \n2070  246465       guerrero   16        spain       63         76   \n2071  246594    h. massengo   16       france       62         75   \n2072  246599  guillem jaime   19        spain       64         80   \n2073  246606    fran garcía   18        spain       64         79   \n2074  246608        fidalgo   21        spain       65         75   \n\n                     Club    Value  Wage Preferred Foot  \\\n0     paris saint-germain   4000.0    77          right   \n1                 cd aves    750.0     5          right   \n2       fc bayern münchen  15500.0   110           left   \n3        cambridge united    120.0     2          right   \n4              cd tondela    750.0     4          right   \n...                   ...      ...   ...            ...   \n2070  cf rayo majadahonda    625.0     1           left   \n2071            as monaco    450.0     2          right   \n2072         fc barcelona    975.0    13          right   \n2073          real madrid    825.0     9           left   \n2074          real madrid    875.0    20          right   \n\n      International Reputation  Skill Moves Position  Joined  \\\n0                          4.0          1.0       gk    2018   \n1                          1.0          3.0      lcm    2017   \n2                          4.0          4.0       rm    2009   \n3                          1.0          2.0       st    2017   \n4                          2.0          2.0      lcb    2017   \n...                        ...          ...      ...     ...   \n2070                       1.0          3.0       cm    2018   \n2071                       1.0          2.0      cdm    2018   \n2072                       1.0          3.0       rw    2018   \n2073                       1.0          2.0       lb    2018   \n2074                       1.0          3.0       cm    2016   \n\n     Contract Valid Until    Height  Weight  Release Clause  \n0              01/01/2019  6.333333   203.0          7400.0  \n1              01/01/2019  5.916667   165.0          1600.0  \n2              01/01/2019  5.916667   176.0         25600.0  \n3              01/01/2019  6.333333   203.0           210.0  \n4              01/01/2019  6.000000   181.0          1600.0  \n...                   ...       ...     ...             ...  \n2070           01/01/2019  5.916667   165.0          1400.0  \n2071           01/01/2021  5.833333   146.0          1100.0  \n2072           01/01/2020  5.833333   154.0          2600.0  \n2073           01/01/2019  5.583333   139.0          2200.0  \n2074           01/01/2019  5.750000   150.0          2000.0  \n\n[2075 rows x 18 columns]",
      "text/html": "<div>\n<style scoped>\n    .dataframe tbody tr th:only-of-type {\n        vertical-align: middle;\n    }\n\n    .dataframe tbody tr th {\n        vertical-align: top;\n    }\n\n    .dataframe thead th {\n        text-align: right;\n    }\n</style>\n<table border=\"1\" class=\"dataframe\">\n  <thead>\n    <tr style=\"text-align: right;\">\n      <th></th>\n      <th>ID</th>\n      <th>Name</th>\n      <th>Age</th>\n      <th>Nationality</th>\n      <th>Overall</th>\n      <th>Potential</th>\n      <th>Club</th>\n      <th>Value</th>\n      <th>Wage</th>\n      <th>Preferred Foot</th>\n      <th>International Reputation</th>\n      <th>Skill Moves</th>\n      <th>Position</th>\n      <th>Joined</th>\n      <th>Contract Valid Until</th>\n      <th>Height</th>\n      <th>Weight</th>\n      <th>Release Clause</th>\n    </tr>\n  </thead>\n  <tbody>\n    <tr>\n      <th>0</th>\n      <td>1179</td>\n      <td>g. buffon</td>\n      <td>40</td>\n      <td>italy</td>\n      <td>88</td>\n      <td>88</td>\n      <td>paris saint-germain</td>\n      <td>4000.0</td>\n      <td>77</td>\n      <td>right</td>\n      <td>4.0</td>\n      <td>1.0</td>\n      <td>gk</td>\n      <td>2018</td>\n      <td>01/01/2019</td>\n      <td>6.333333</td>\n      <td>203.0</td>\n      <td>7400.0</td>\n    </tr>\n    <tr>\n      <th>1</th>\n      <td>8205</td>\n      <td>braga</td>\n      <td>35</td>\n      <td>portugal</td>\n      <td>70</td>\n      <td>70</td>\n      <td>cd aves</td>\n      <td>750.0</td>\n      <td>5</td>\n      <td>right</td>\n      <td>1.0</td>\n      <td>3.0</td>\n      <td>lcm</td>\n      <td>2017</td>\n      <td>01/01/2019</td>\n      <td>5.916667</td>\n      <td>165.0</td>\n      <td>1600.0</td>\n    </tr>\n    <tr>\n      <th>2</th>\n      <td>9014</td>\n      <td>a. robben</td>\n      <td>34</td>\n      <td>netherlands</td>\n      <td>84</td>\n      <td>84</td>\n      <td>fc bayern münchen</td>\n      <td>15500.0</td>\n      <td>110</td>\n      <td>left</td>\n      <td>4.0</td>\n      <td>4.0</td>\n      <td>rm</td>\n      <td>2009</td>\n      <td>01/01/2019</td>\n      <td>5.916667</td>\n      <td>176.0</td>\n      <td>25600.0</td>\n    </tr>\n    <tr>\n      <th>3</th>\n      <td>19521</td>\n      <td>j. ibehre</td>\n      <td>35</td>\n      <td>england</td>\n      <td>61</td>\n      <td>61</td>\n      <td>cambridge united</td>\n      <td>120.0</td>\n      <td>2</td>\n      <td>right</td>\n      <td>1.0</td>\n      <td>2.0</td>\n      <td>st</td>\n      <td>2017</td>\n      <td>01/01/2019</td>\n      <td>6.333333</td>\n      <td>203.0</td>\n      <td>210.0</td>\n    </tr>\n    <tr>\n      <th>4</th>\n      <td>20209</td>\n      <td>ricardo costa</td>\n      <td>37</td>\n      <td>portugal</td>\n      <td>74</td>\n      <td>74</td>\n      <td>cd tondela</td>\n      <td>750.0</td>\n      <td>4</td>\n      <td>right</td>\n      <td>2.0</td>\n      <td>2.0</td>\n      <td>lcb</td>\n      <td>2017</td>\n      <td>01/01/2019</td>\n      <td>6.000000</td>\n      <td>181.0</td>\n      <td>1600.0</td>\n    </tr>\n    <tr>\n      <th>...</th>\n      <td>...</td>\n      <td>...</td>\n      <td>...</td>\n      <td>...</td>\n      <td>...</td>\n      <td>...</td>\n      <td>...</td>\n      <td>...</td>\n      <td>...</td>\n      <td>...</td>\n      <td>...</td>\n      <td>...</td>\n      <td>...</td>\n      <td>...</td>\n      <td>...</td>\n      <td>...</td>\n      <td>...</td>\n      <td>...</td>\n    </tr>\n    <tr>\n      <th>2070</th>\n      <td>246465</td>\n      <td>guerrero</td>\n      <td>16</td>\n      <td>spain</td>\n      <td>63</td>\n      <td>76</td>\n      <td>cf rayo majadahonda</td>\n      <td>625.0</td>\n      <td>1</td>\n      <td>left</td>\n      <td>1.0</td>\n      <td>3.0</td>\n      <td>cm</td>\n      <td>2018</td>\n      <td>01/01/2019</td>\n      <td>5.916667</td>\n      <td>165.0</td>\n      <td>1400.0</td>\n    </tr>\n    <tr>\n      <th>2071</th>\n      <td>246594</td>\n      <td>h. massengo</td>\n      <td>16</td>\n      <td>france</td>\n      <td>62</td>\n      <td>75</td>\n      <td>as monaco</td>\n      <td>450.0</td>\n      <td>2</td>\n      <td>right</td>\n      <td>1.0</td>\n      <td>2.0</td>\n      <td>cdm</td>\n      <td>2018</td>\n      <td>01/01/2021</td>\n      <td>5.833333</td>\n      <td>146.0</td>\n      <td>1100.0</td>\n    </tr>\n    <tr>\n      <th>2072</th>\n      <td>246599</td>\n      <td>guillem jaime</td>\n      <td>19</td>\n      <td>spain</td>\n      <td>64</td>\n      <td>80</td>\n      <td>fc barcelona</td>\n      <td>975.0</td>\n      <td>13</td>\n      <td>right</td>\n      <td>1.0</td>\n      <td>3.0</td>\n      <td>rw</td>\n      <td>2018</td>\n      <td>01/01/2020</td>\n      <td>5.833333</td>\n      <td>154.0</td>\n      <td>2600.0</td>\n    </tr>\n    <tr>\n      <th>2073</th>\n      <td>246606</td>\n      <td>fran garcía</td>\n      <td>18</td>\n      <td>spain</td>\n      <td>64</td>\n      <td>79</td>\n      <td>real madrid</td>\n      <td>825.0</td>\n      <td>9</td>\n      <td>left</td>\n      <td>1.0</td>\n      <td>2.0</td>\n      <td>lb</td>\n      <td>2018</td>\n      <td>01/01/2019</td>\n      <td>5.583333</td>\n      <td>139.0</td>\n      <td>2200.0</td>\n    </tr>\n    <tr>\n      <th>2074</th>\n      <td>246608</td>\n      <td>fidalgo</td>\n      <td>21</td>\n      <td>spain</td>\n      <td>65</td>\n      <td>75</td>\n      <td>real madrid</td>\n      <td>875.0</td>\n      <td>20</td>\n      <td>right</td>\n      <td>1.0</td>\n      <td>3.0</td>\n      <td>cm</td>\n      <td>2016</td>\n      <td>01/01/2019</td>\n      <td>5.750000</td>\n      <td>150.0</td>\n      <td>2000.0</td>\n    </tr>\n  </tbody>\n</table>\n<p>2075 rows × 18 columns</p>\n</div>"
     },
     "execution_count": 46,
     "metadata": {},
     "output_type": "execute_result"
    }
   ],
   "source": [
    "df.drop('Unnamed: 0', axis=1)"
   ],
   "metadata": {
    "collapsed": false,
    "ExecuteTime": {
     "end_time": "2024-03-15T10:48:50.858187Z",
     "start_time": "2024-03-15T10:48:50.845217Z"
    }
   },
   "id": "9f0cb64f2aec620b",
   "execution_count": 46
  },
  {
   "cell_type": "code",
   "outputs": [
    {
     "data": {
      "text/plain": "0"
     },
     "execution_count": 47,
     "metadata": {},
     "output_type": "execute_result"
    }
   ],
   "source": [
    "df.duplicated().sum()"
   ],
   "metadata": {
    "collapsed": false,
    "ExecuteTime": {
     "end_time": "2024-03-15T10:49:18.667324Z",
     "start_time": "2024-03-15T10:49:18.661190Z"
    }
   },
   "id": "74c2fceaef5abd0d",
   "execution_count": 47
  },
  {
   "cell_type": "code",
   "outputs": [
    {
     "data": {
      "text/plain": "   Unnamed: 0     ID               Name  Age  Nationality  Overall  Potential  \\\n0           0   1179          g. buffon   40        italy       88         88   \n1           2   8205              braga   35     portugal       70         70   \n2           3   9014          a. robben   34  netherlands       84         84   \n3           4  19521          j. ibehre   35      england       61         61   \n4           5  20209      ricardo costa   37     portugal       74         74   \n5           6  20801  cristiano ronaldo   33     portugal       94         94   \n6           8  27532        d. de vries   37  netherlands       66         66   \n7           9  45083      s. von bergen   35  switzerland       73         73   \n8          10  46175       m. rosenberg   35       sweden       73         73   \n9          11  47201           s. proto   35      belgium       76         76   \n\n                  Club    Value  Wage Preferred Foot  \\\n0  paris saint-germain   4000.0    77          right   \n1              cd aves    750.0     5          right   \n2    fc bayern münchen  15500.0   110           left   \n3     cambridge united    120.0     2          right   \n4           cd tondela    750.0     4          right   \n5             juventus  77000.0   405          right   \n6               celtic     40.0     7          right   \n7       bsc young boys    950.0    12          right   \n8             malmö ff   1800.0     6          right   \n9                lazio   1800.0    20          right   \n\n   International Reputation  Skill Moves Position  Joined  \\\n0                       4.0          1.0       gk    2018   \n1                       1.0          3.0      lcm    2017   \n2                       4.0          4.0       rm    2009   \n3                       1.0          2.0       st    2017   \n4                       2.0          2.0      lcb    2017   \n5                       5.0          5.0       st    2018   \n6                       1.0          1.0       gk    2016   \n7                       2.0          2.0      lcb    2013   \n8                       1.0          3.0       rs    2014   \n9                       2.0          1.0       gk    2018   \n\n  Contract Valid Until    Height  Weight  Release Clause  \n0           01/01/2019  6.333333   203.0          7400.0  \n1           01/01/2019  5.916667   165.0          1600.0  \n2           01/01/2019  5.916667   176.0         25600.0  \n3           01/01/2019  6.333333   203.0           210.0  \n4           01/01/2019  6.000000   181.0          1600.0  \n5           01/01/2022  6.166667   183.0        127100.0  \n6           01/01/2019  6.250000   212.0            72.0  \n7           01/01/2022  6.000000   174.0          1400.0  \n8           01/01/2020  6.000000   179.0          2400.0  \n9           01/01/2021  6.000000   163.0          3100.0  ",
      "text/html": "<div>\n<style scoped>\n    .dataframe tbody tr th:only-of-type {\n        vertical-align: middle;\n    }\n\n    .dataframe tbody tr th {\n        vertical-align: top;\n    }\n\n    .dataframe thead th {\n        text-align: right;\n    }\n</style>\n<table border=\"1\" class=\"dataframe\">\n  <thead>\n    <tr style=\"text-align: right;\">\n      <th></th>\n      <th>Unnamed: 0</th>\n      <th>ID</th>\n      <th>Name</th>\n      <th>Age</th>\n      <th>Nationality</th>\n      <th>Overall</th>\n      <th>Potential</th>\n      <th>Club</th>\n      <th>Value</th>\n      <th>Wage</th>\n      <th>Preferred Foot</th>\n      <th>International Reputation</th>\n      <th>Skill Moves</th>\n      <th>Position</th>\n      <th>Joined</th>\n      <th>Contract Valid Until</th>\n      <th>Height</th>\n      <th>Weight</th>\n      <th>Release Clause</th>\n    </tr>\n  </thead>\n  <tbody>\n    <tr>\n      <th>0</th>\n      <td>0</td>\n      <td>1179</td>\n      <td>g. buffon</td>\n      <td>40</td>\n      <td>italy</td>\n      <td>88</td>\n      <td>88</td>\n      <td>paris saint-germain</td>\n      <td>4000.0</td>\n      <td>77</td>\n      <td>right</td>\n      <td>4.0</td>\n      <td>1.0</td>\n      <td>gk</td>\n      <td>2018</td>\n      <td>01/01/2019</td>\n      <td>6.333333</td>\n      <td>203.0</td>\n      <td>7400.0</td>\n    </tr>\n    <tr>\n      <th>1</th>\n      <td>2</td>\n      <td>8205</td>\n      <td>braga</td>\n      <td>35</td>\n      <td>portugal</td>\n      <td>70</td>\n      <td>70</td>\n      <td>cd aves</td>\n      <td>750.0</td>\n      <td>5</td>\n      <td>right</td>\n      <td>1.0</td>\n      <td>3.0</td>\n      <td>lcm</td>\n      <td>2017</td>\n      <td>01/01/2019</td>\n      <td>5.916667</td>\n      <td>165.0</td>\n      <td>1600.0</td>\n    </tr>\n    <tr>\n      <th>2</th>\n      <td>3</td>\n      <td>9014</td>\n      <td>a. robben</td>\n      <td>34</td>\n      <td>netherlands</td>\n      <td>84</td>\n      <td>84</td>\n      <td>fc bayern münchen</td>\n      <td>15500.0</td>\n      <td>110</td>\n      <td>left</td>\n      <td>4.0</td>\n      <td>4.0</td>\n      <td>rm</td>\n      <td>2009</td>\n      <td>01/01/2019</td>\n      <td>5.916667</td>\n      <td>176.0</td>\n      <td>25600.0</td>\n    </tr>\n    <tr>\n      <th>3</th>\n      <td>4</td>\n      <td>19521</td>\n      <td>j. ibehre</td>\n      <td>35</td>\n      <td>england</td>\n      <td>61</td>\n      <td>61</td>\n      <td>cambridge united</td>\n      <td>120.0</td>\n      <td>2</td>\n      <td>right</td>\n      <td>1.0</td>\n      <td>2.0</td>\n      <td>st</td>\n      <td>2017</td>\n      <td>01/01/2019</td>\n      <td>6.333333</td>\n      <td>203.0</td>\n      <td>210.0</td>\n    </tr>\n    <tr>\n      <th>4</th>\n      <td>5</td>\n      <td>20209</td>\n      <td>ricardo costa</td>\n      <td>37</td>\n      <td>portugal</td>\n      <td>74</td>\n      <td>74</td>\n      <td>cd tondela</td>\n      <td>750.0</td>\n      <td>4</td>\n      <td>right</td>\n      <td>2.0</td>\n      <td>2.0</td>\n      <td>lcb</td>\n      <td>2017</td>\n      <td>01/01/2019</td>\n      <td>6.000000</td>\n      <td>181.0</td>\n      <td>1600.0</td>\n    </tr>\n    <tr>\n      <th>5</th>\n      <td>6</td>\n      <td>20801</td>\n      <td>cristiano ronaldo</td>\n      <td>33</td>\n      <td>portugal</td>\n      <td>94</td>\n      <td>94</td>\n      <td>juventus</td>\n      <td>77000.0</td>\n      <td>405</td>\n      <td>right</td>\n      <td>5.0</td>\n      <td>5.0</td>\n      <td>st</td>\n      <td>2018</td>\n      <td>01/01/2022</td>\n      <td>6.166667</td>\n      <td>183.0</td>\n      <td>127100.0</td>\n    </tr>\n    <tr>\n      <th>6</th>\n      <td>8</td>\n      <td>27532</td>\n      <td>d. de vries</td>\n      <td>37</td>\n      <td>netherlands</td>\n      <td>66</td>\n      <td>66</td>\n      <td>celtic</td>\n      <td>40.0</td>\n      <td>7</td>\n      <td>right</td>\n      <td>1.0</td>\n      <td>1.0</td>\n      <td>gk</td>\n      <td>2016</td>\n      <td>01/01/2019</td>\n      <td>6.250000</td>\n      <td>212.0</td>\n      <td>72.0</td>\n    </tr>\n    <tr>\n      <th>7</th>\n      <td>9</td>\n      <td>45083</td>\n      <td>s. von bergen</td>\n      <td>35</td>\n      <td>switzerland</td>\n      <td>73</td>\n      <td>73</td>\n      <td>bsc young boys</td>\n      <td>950.0</td>\n      <td>12</td>\n      <td>right</td>\n      <td>2.0</td>\n      <td>2.0</td>\n      <td>lcb</td>\n      <td>2013</td>\n      <td>01/01/2022</td>\n      <td>6.000000</td>\n      <td>174.0</td>\n      <td>1400.0</td>\n    </tr>\n    <tr>\n      <th>8</th>\n      <td>10</td>\n      <td>46175</td>\n      <td>m. rosenberg</td>\n      <td>35</td>\n      <td>sweden</td>\n      <td>73</td>\n      <td>73</td>\n      <td>malmö ff</td>\n      <td>1800.0</td>\n      <td>6</td>\n      <td>right</td>\n      <td>1.0</td>\n      <td>3.0</td>\n      <td>rs</td>\n      <td>2014</td>\n      <td>01/01/2020</td>\n      <td>6.000000</td>\n      <td>179.0</td>\n      <td>2400.0</td>\n    </tr>\n    <tr>\n      <th>9</th>\n      <td>11</td>\n      <td>47201</td>\n      <td>s. proto</td>\n      <td>35</td>\n      <td>belgium</td>\n      <td>76</td>\n      <td>76</td>\n      <td>lazio</td>\n      <td>1800.0</td>\n      <td>20</td>\n      <td>right</td>\n      <td>2.0</td>\n      <td>1.0</td>\n      <td>gk</td>\n      <td>2018</td>\n      <td>01/01/2021</td>\n      <td>6.000000</td>\n      <td>163.0</td>\n      <td>3100.0</td>\n    </tr>\n  </tbody>\n</table>\n</div>"
     },
     "execution_count": 49,
     "metadata": {},
     "output_type": "execute_result"
    }
   ],
   "source": [
    "df.head(10)"
   ],
   "metadata": {
    "collapsed": false,
    "ExecuteTime": {
     "end_time": "2024-03-15T10:51:07.372291Z",
     "start_time": "2024-03-15T10:51:07.359451Z"
    }
   },
   "id": "36398566057125c2",
   "execution_count": 49
  },
  {
   "cell_type": "code",
   "outputs": [],
   "source": [
    "df.drop('Unnamed: 0', axis=1, inplace=True)"
   ],
   "metadata": {
    "collapsed": false,
    "ExecuteTime": {
     "end_time": "2024-03-15T10:52:28.313536Z",
     "start_time": "2024-03-15T10:52:28.309547Z"
    }
   },
   "id": "9790bd595f5e181d",
   "execution_count": 50
  },
  {
   "cell_type": "code",
   "outputs": [
    {
     "data": {
      "text/plain": "2"
     },
     "execution_count": 52,
     "metadata": {},
     "output_type": "execute_result"
    }
   ],
   "source": [
    "df.duplicated().sum()"
   ],
   "metadata": {
    "collapsed": false,
    "ExecuteTime": {
     "end_time": "2024-03-15T10:52:59.320066Z",
     "start_time": "2024-03-15T10:52:59.312756Z"
    }
   },
   "id": "75560da1ce79be17",
   "execution_count": 52
  },
  {
   "cell_type": "code",
   "outputs": [],
   "source": [
    "df = df.drop_duplicates()"
   ],
   "metadata": {
    "collapsed": false,
    "ExecuteTime": {
     "end_time": "2024-03-15T10:56:23.006890Z",
     "start_time": "2024-03-15T10:56:23.001348Z"
    }
   },
   "id": "5f1cabe1a0155f25",
   "execution_count": 56
  },
  {
   "cell_type": "code",
   "outputs": [
    {
     "data": {
      "text/plain": "0"
     },
     "execution_count": 57,
     "metadata": {},
     "output_type": "execute_result"
    }
   ],
   "source": [
    "df.duplicated().sum()"
   ],
   "metadata": {
    "collapsed": false,
    "ExecuteTime": {
     "end_time": "2024-03-15T10:56:30.510191Z",
     "start_time": "2024-03-15T10:56:30.502246Z"
    }
   },
   "id": "a3deeffbf5ca25e7",
   "execution_count": 57
  },
  {
   "cell_type": "code",
   "outputs": [],
   "source": [
    "df.to_csv('fifa_s2_v3.csv')"
   ],
   "metadata": {
    "collapsed": false,
    "ExecuteTime": {
     "end_time": "2024-03-15T10:59:06.621176Z",
     "start_time": "2024-03-15T10:59:06.573452Z"
    }
   },
   "id": "4246700c9238ec19",
   "execution_count": 58
  },
  {
   "cell_type": "code",
   "outputs": [],
   "source": [],
   "metadata": {
    "collapsed": false
   },
   "id": "6b780d7114616864"
  }
 ],
 "metadata": {
  "kernelspec": {
   "display_name": "Python 3",
   "language": "python",
   "name": "python3"
  },
  "language_info": {
   "codemirror_mode": {
    "name": "ipython",
    "version": 2
   },
   "file_extension": ".py",
   "mimetype": "text/x-python",
   "name": "python",
   "nbconvert_exporter": "python",
   "pygments_lexer": "ipython2",
   "version": "2.7.6"
  }
 },
 "nbformat": 4,
 "nbformat_minor": 5
}
