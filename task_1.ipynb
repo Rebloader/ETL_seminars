{
 "cells": [
  {
   "cell_type": "code",
   "execution_count": 1,
   "id": "initial_id",
   "metadata": {
    "collapsed": true,
    "ExecuteTime": {
     "end_time": "2024-03-15T09:29:49.363068Z",
     "start_time": "2024-03-15T09:29:48.731275Z"
    }
   },
   "outputs": [
    {
     "data": {
      "text/plain": "      ID       Name  Age  Nationality  Overall  Potential  \\\n0   1179  G. Buffon   40        Italy       88         88   \n1   5479   Casillas   37        Spain       82         82   \n2   8205      Braga   35     Portugal       70         70   \n3   9014  A. Robben   34  Netherlands       84         84   \n4  19521  J. Ibehre   35      England       61         61   \n\n                  Club    Value  Wage Preferred Foot  \\\n0  Paris Saint-Germain   4000.0    77          Right   \n1             FC Porto   1500.0    10           Left   \n2              CD Aves    750.0     5          Right   \n3    FC Bayern München  15500.0   110           Left   \n4     Cambridge United    120.0     2          Right   \n\n   International Reputation  Skill Moves Position  Joined  \\\n0                       4.0          1.0       GK    2018   \n1                       4.0          1.0      NaN    2015   \n2                       1.0          3.0      LCM    2017   \n3                       4.0          4.0       RM    2009   \n4                       1.0          2.0       ST    2017   \n\n  Contract Valid Until    Height  Weight  Release Clause  \n0           01/01/2019  6.333333   203.0          7400.0  \n1           01/01/2019  6.083333   185.0          3000.0  \n2           01/01/2019  5.916667   165.0          1600.0  \n3           01/01/2019  5.916667   176.0         25600.0  \n4           01/01/2019  6.333333   203.0           210.0  ",
      "text/html": "<div>\n<style scoped>\n    .dataframe tbody tr th:only-of-type {\n        vertical-align: middle;\n    }\n\n    .dataframe tbody tr th {\n        vertical-align: top;\n    }\n\n    .dataframe thead th {\n        text-align: right;\n    }\n</style>\n<table border=\"1\" class=\"dataframe\">\n  <thead>\n    <tr style=\"text-align: right;\">\n      <th></th>\n      <th>ID</th>\n      <th>Name</th>\n      <th>Age</th>\n      <th>Nationality</th>\n      <th>Overall</th>\n      <th>Potential</th>\n      <th>Club</th>\n      <th>Value</th>\n      <th>Wage</th>\n      <th>Preferred Foot</th>\n      <th>International Reputation</th>\n      <th>Skill Moves</th>\n      <th>Position</th>\n      <th>Joined</th>\n      <th>Contract Valid Until</th>\n      <th>Height</th>\n      <th>Weight</th>\n      <th>Release Clause</th>\n    </tr>\n  </thead>\n  <tbody>\n    <tr>\n      <th>0</th>\n      <td>1179</td>\n      <td>G. Buffon</td>\n      <td>40</td>\n      <td>Italy</td>\n      <td>88</td>\n      <td>88</td>\n      <td>Paris Saint-Germain</td>\n      <td>4000.0</td>\n      <td>77</td>\n      <td>Right</td>\n      <td>4.0</td>\n      <td>1.0</td>\n      <td>GK</td>\n      <td>2018</td>\n      <td>01/01/2019</td>\n      <td>6.333333</td>\n      <td>203.0</td>\n      <td>7400.0</td>\n    </tr>\n    <tr>\n      <th>1</th>\n      <td>5479</td>\n      <td>Casillas</td>\n      <td>37</td>\n      <td>Spain</td>\n      <td>82</td>\n      <td>82</td>\n      <td>FC Porto</td>\n      <td>1500.0</td>\n      <td>10</td>\n      <td>Left</td>\n      <td>4.0</td>\n      <td>1.0</td>\n      <td>NaN</td>\n      <td>2015</td>\n      <td>01/01/2019</td>\n      <td>6.083333</td>\n      <td>185.0</td>\n      <td>3000.0</td>\n    </tr>\n    <tr>\n      <th>2</th>\n      <td>8205</td>\n      <td>Braga</td>\n      <td>35</td>\n      <td>Portugal</td>\n      <td>70</td>\n      <td>70</td>\n      <td>CD Aves</td>\n      <td>750.0</td>\n      <td>5</td>\n      <td>Right</td>\n      <td>1.0</td>\n      <td>3.0</td>\n      <td>LCM</td>\n      <td>2017</td>\n      <td>01/01/2019</td>\n      <td>5.916667</td>\n      <td>165.0</td>\n      <td>1600.0</td>\n    </tr>\n    <tr>\n      <th>3</th>\n      <td>9014</td>\n      <td>A. Robben</td>\n      <td>34</td>\n      <td>Netherlands</td>\n      <td>84</td>\n      <td>84</td>\n      <td>FC Bayern München</td>\n      <td>15500.0</td>\n      <td>110</td>\n      <td>Left</td>\n      <td>4.0</td>\n      <td>4.0</td>\n      <td>RM</td>\n      <td>2009</td>\n      <td>01/01/2019</td>\n      <td>5.916667</td>\n      <td>176.0</td>\n      <td>25600.0</td>\n    </tr>\n    <tr>\n      <th>4</th>\n      <td>19521</td>\n      <td>J. Ibehre</td>\n      <td>35</td>\n      <td>England</td>\n      <td>61</td>\n      <td>61</td>\n      <td>Cambridge United</td>\n      <td>120.0</td>\n      <td>2</td>\n      <td>Right</td>\n      <td>1.0</td>\n      <td>2.0</td>\n      <td>ST</td>\n      <td>2017</td>\n      <td>01/01/2019</td>\n      <td>6.333333</td>\n      <td>203.0</td>\n      <td>210.0</td>\n    </tr>\n  </tbody>\n</table>\n</div>"
     },
     "execution_count": 1,
     "metadata": {},
     "output_type": "execute_result"
    }
   ],
   "source": [
    "import pandas as pd\n",
    "import numpy as np\n",
    "\n",
    "file = pd.read_csv('fifa_s2.csv')\n",
    "file.head()\n",
    "\n"
   ]
  },
  {
   "cell_type": "code",
   "outputs": [
    {
     "name": "stdout",
     "output_type": "stream",
     "text": [
      "<class 'pandas.core.frame.DataFrame'>\n",
      "RangeIndex: 2399 entries, 0 to 2398\n",
      "Data columns (total 18 columns):\n",
      " #   Column                    Non-Null Count  Dtype  \n",
      "---  ------                    --------------  -----  \n",
      " 0   ID                        2399 non-null   int64  \n",
      " 1   Name                      2399 non-null   object \n",
      " 2   Age                       2399 non-null   int64  \n",
      " 3   Nationality               2392 non-null   object \n",
      " 4   Overall                   2399 non-null   int64  \n",
      " 5   Potential                 2399 non-null   int64  \n",
      " 6   Club                      2158 non-null   object \n",
      " 7   Value                     2142 non-null   float64\n",
      " 8   Wage                      2399 non-null   int64  \n",
      " 9   Preferred Foot            2399 non-null   object \n",
      " 10  International Reputation  2389 non-null   float64\n",
      " 11  Skill Moves               2393 non-null   float64\n",
      " 12  Position                  2378 non-null   object \n",
      " 13  Joined                    2399 non-null   int64  \n",
      " 14  Contract Valid Until      2126 non-null   object \n",
      " 15  Height                    2399 non-null   float64\n",
      " 16  Weight                    2399 non-null   float64\n",
      " 17  Release Clause            2396 non-null   float64\n",
      "dtypes: float64(6), int64(6), object(6)\n",
      "memory usage: 337.5+ KB\n"
     ]
    }
   ],
   "source": [
    "file.info()"
   ],
   "metadata": {
    "collapsed": false,
    "ExecuteTime": {
     "end_time": "2024-03-15T09:30:57.181801Z",
     "start_time": "2024-03-15T09:30:57.175030Z"
    }
   },
   "id": "6b4b3af55bbc0bff",
   "execution_count": 3
  },
  {
   "cell_type": "code",
   "outputs": [
    {
     "data": {
      "text/plain": "Position\nGK     275\nST     270\nCB     234\nCM     190\nLB     188\nRB     183\nRM     148\nLM     129\nCDM    127\nCAM    124\nLCB     86\nRCB     81\nLCM     53\nLW      52\nRCM     48\nRW      45\nRS      29\nLDM     29\nRDM     27\nLS      26\nRWB     10\nLWB      8\nCF       7\nRAM      3\nLAM      3\nLF       2\nRF       1\nName: count, dtype: int64"
     },
     "execution_count": 4,
     "metadata": {},
     "output_type": "execute_result"
    }
   ],
   "source": [
    "file['Position'].value_counts()"
   ],
   "metadata": {
    "collapsed": false,
    "ExecuteTime": {
     "end_time": "2024-03-15T09:33:16.409638Z",
     "start_time": "2024-03-15T09:33:16.404159Z"
    }
   },
   "id": "e237d5afd71cfc10",
   "execution_count": 4
  },
  {
   "cell_type": "code",
   "outputs": [
    {
     "data": {
      "text/plain": "ID                            0\nName                          0\nAge                           0\nNationality                   7\nOverall                       0\nPotential                     0\nClub                        241\nValue                       257\nWage                          0\nPreferred Foot                0\nInternational Reputation     10\nSkill Moves                   6\nPosition                     21\nJoined                        0\nContract Valid Until        273\nHeight                        0\nWeight                        0\nRelease Clause                3\ndtype: int64"
     },
     "execution_count": 5,
     "metadata": {},
     "output_type": "execute_result"
    }
   ],
   "source": [
    "file.isna().sum()"
   ],
   "metadata": {
    "collapsed": false,
    "ExecuteTime": {
     "end_time": "2024-03-15T09:35:42.635386Z",
     "start_time": "2024-03-15T09:35:42.630536Z"
    }
   },
   "id": "27f1ebca0bbf7c9d",
   "execution_count": 5
  },
  {
   "cell_type": "code",
   "outputs": [
    {
     "name": "stdout",
     "output_type": "stream",
     "text": [
      "<class 'pandas.core.frame.DataFrame'>\n",
      "RangeIndex: 2399 entries, 0 to 2398\n",
      "Data columns (total 18 columns):\n",
      " #   Column                    Non-Null Count  Dtype  \n",
      "---  ------                    --------------  -----  \n",
      " 0   ID                        2399 non-null   int64  \n",
      " 1   Name                      2399 non-null   object \n",
      " 2   Age                       2399 non-null   int64  \n",
      " 3   Nationality               2392 non-null   object \n",
      " 4   Overall                   2399 non-null   int64  \n",
      " 5   Potential                 2399 non-null   int64  \n",
      " 6   Club                      2158 non-null   object \n",
      " 7   Value                     2142 non-null   float64\n",
      " 8   Wage                      2399 non-null   int64  \n",
      " 9   Preferred Foot            2399 non-null   object \n",
      " 10  International Reputation  2389 non-null   float64\n",
      " 11  Skill Moves               2393 non-null   float64\n",
      " 12  Position                  2378 non-null   object \n",
      " 13  Joined                    2399 non-null   int64  \n",
      " 14  Contract Valid Until      2126 non-null   object \n",
      " 15  Height                    2399 non-null   float64\n",
      " 16  Weight                    2399 non-null   float64\n",
      " 17  Release Clause            2396 non-null   float64\n",
      "dtypes: float64(6), int64(6), object(6)\n",
      "memory usage: 337.5+ KB\n"
     ]
    }
   ],
   "source": [
    "file_not_no = file.dropna(how='all', axis=1)\n",
    "file_not_no.info()"
   ],
   "metadata": {
    "collapsed": false,
    "ExecuteTime": {
     "end_time": "2024-03-15T09:44:37.432641Z",
     "start_time": "2024-03-15T09:44:37.425142Z"
    }
   },
   "id": "4c3c25433d818a6f",
   "execution_count": 6
  },
  {
   "cell_type": "code",
   "outputs": [
    {
     "name": "stdout",
     "output_type": "stream",
     "text": [
      "<class 'pandas.core.frame.DataFrame'>\n",
      "Index: 2075 entries, 0 to 2398\n",
      "Data columns (total 18 columns):\n",
      " #   Column                    Non-Null Count  Dtype  \n",
      "---  ------                    --------------  -----  \n",
      " 0   ID                        2075 non-null   int64  \n",
      " 1   Name                      2075 non-null   object \n",
      " 2   Age                       2075 non-null   int64  \n",
      " 3   Nationality               2075 non-null   object \n",
      " 4   Overall                   2075 non-null   int64  \n",
      " 5   Potential                 2075 non-null   int64  \n",
      " 6   Club                      2075 non-null   object \n",
      " 7   Value                     2075 non-null   float64\n",
      " 8   Wage                      2075 non-null   int64  \n",
      " 9   Preferred Foot            2075 non-null   object \n",
      " 10  International Reputation  2075 non-null   float64\n",
      " 11  Skill Moves               2075 non-null   float64\n",
      " 12  Position                  2075 non-null   object \n",
      " 13  Joined                    2075 non-null   int64  \n",
      " 14  Contract Valid Until      2075 non-null   object \n",
      " 15  Height                    2075 non-null   float64\n",
      " 16  Weight                    2075 non-null   float64\n",
      " 17  Release Clause            2075 non-null   float64\n",
      "dtypes: float64(6), int64(6), object(6)\n",
      "memory usage: 308.0+ KB\n"
     ]
    }
   ],
   "source": [
    "file_not_no.dropna(inplace=True, how='any')\n",
    "file_not_no.info()"
   ],
   "metadata": {
    "collapsed": false,
    "ExecuteTime": {
     "end_time": "2024-03-15T09:48:27.885728Z",
     "start_time": "2024-03-15T09:48:27.878170Z"
    }
   },
   "id": "a46d808e5e9ac8d0",
   "execution_count": 7
  },
  {
   "cell_type": "code",
   "outputs": [],
   "source": [
    "file_not_no.to_csv('fifa_s2_v2.csv')"
   ],
   "metadata": {
    "collapsed": false,
    "ExecuteTime": {
     "end_time": "2024-03-15T09:49:18.986916Z",
     "start_time": "2024-03-15T09:49:18.970481Z"
    }
   },
   "id": "6c45bc98a85fed34",
   "execution_count": 8
  },
  {
   "cell_type": "code",
   "outputs": [],
   "source": [],
   "metadata": {
    "collapsed": false
   },
   "id": "ba999d5b235fd427"
  }
 ],
 "metadata": {
  "kernelspec": {
   "display_name": "Python 3",
   "language": "python",
   "name": "python3"
  },
  "language_info": {
   "codemirror_mode": {
    "name": "ipython",
    "version": 2
   },
   "file_extension": ".py",
   "mimetype": "text/x-python",
   "name": "python",
   "nbconvert_exporter": "python",
   "pygments_lexer": "ipython2",
   "version": "2.7.6"
  }
 },
 "nbformat": 4,
 "nbformat_minor": 5
}
