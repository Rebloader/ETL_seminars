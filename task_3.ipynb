{
 "cells": [
  {
   "cell_type": "code",
   "execution_count": 1,
   "id": "initial_id",
   "metadata": {
    "collapsed": true,
    "ExecuteTime": {
     "end_time": "2024-03-15T10:59:36.501052Z",
     "start_time": "2024-03-15T10:59:36.194440Z"
    }
   },
   "outputs": [],
   "source": [
    "import pandas as pd\n",
    "\n",
    "df = pd.read_csv('fifa_s2_v3.csv')"
   ]
  },
  {
   "cell_type": "code",
   "outputs": [],
   "source": [
    "def age_categories(age):\n",
    "    if age < 20:\n",
    "        return 'группа младше 20'\n",
    "    elif 20 <= age < 30:\n",
    "        return 'от 20 до 30 лет'\n",
    "    elif 30 <= age < 36:\n",
    "        return 'от 30 до 36 лет'\n",
    "    else: \n",
    "        return 'пенсионер старше 36'\n",
    "    \n",
    "df['Age_Groups'] = df['Age'].apply(age_categories)"
   ],
   "metadata": {
    "collapsed": false,
    "ExecuteTime": {
     "end_time": "2024-03-15T11:50:53.443941Z",
     "start_time": "2024-03-15T11:50:53.439952Z"
    }
   },
   "id": "ab3ae806996cfe5a",
   "execution_count": 10
  },
  {
   "cell_type": "code",
   "outputs": [
    {
     "data": {
      "text/plain": "                Name  Age           Age_Groups\n0          g. buffon   40  пенсионер старше 36\n1              braga   35      от 30 до 36 лет\n2          a. robben   34      от 30 до 36 лет\n3          j. ibehre   35      от 30 до 36 лет\n4      ricardo costa   37  пенсионер старше 36\n5  cristiano ronaldo   33      от 30 до 36 лет\n6        d. de vries   37  пенсионер старше 36\n7      s. von bergen   35      от 30 до 36 лет\n8       m. rosenberg   35      от 30 до 36 лет\n9           s. proto   35      от 30 до 36 лет",
      "text/html": "<div>\n<style scoped>\n    .dataframe tbody tr th:only-of-type {\n        vertical-align: middle;\n    }\n\n    .dataframe tbody tr th {\n        vertical-align: top;\n    }\n\n    .dataframe thead th {\n        text-align: right;\n    }\n</style>\n<table border=\"1\" class=\"dataframe\">\n  <thead>\n    <tr style=\"text-align: right;\">\n      <th></th>\n      <th>Name</th>\n      <th>Age</th>\n      <th>Age_Groups</th>\n    </tr>\n  </thead>\n  <tbody>\n    <tr>\n      <th>0</th>\n      <td>g. buffon</td>\n      <td>40</td>\n      <td>пенсионер старше 36</td>\n    </tr>\n    <tr>\n      <th>1</th>\n      <td>braga</td>\n      <td>35</td>\n      <td>от 30 до 36 лет</td>\n    </tr>\n    <tr>\n      <th>2</th>\n      <td>a. robben</td>\n      <td>34</td>\n      <td>от 30 до 36 лет</td>\n    </tr>\n    <tr>\n      <th>3</th>\n      <td>j. ibehre</td>\n      <td>35</td>\n      <td>от 30 до 36 лет</td>\n    </tr>\n    <tr>\n      <th>4</th>\n      <td>ricardo costa</td>\n      <td>37</td>\n      <td>пенсионер старше 36</td>\n    </tr>\n    <tr>\n      <th>5</th>\n      <td>cristiano ronaldo</td>\n      <td>33</td>\n      <td>от 30 до 36 лет</td>\n    </tr>\n    <tr>\n      <th>6</th>\n      <td>d. de vries</td>\n      <td>37</td>\n      <td>пенсионер старше 36</td>\n    </tr>\n    <tr>\n      <th>7</th>\n      <td>s. von bergen</td>\n      <td>35</td>\n      <td>от 30 до 36 лет</td>\n    </tr>\n    <tr>\n      <th>8</th>\n      <td>m. rosenberg</td>\n      <td>35</td>\n      <td>от 30 до 36 лет</td>\n    </tr>\n    <tr>\n      <th>9</th>\n      <td>s. proto</td>\n      <td>35</td>\n      <td>от 30 до 36 лет</td>\n    </tr>\n  </tbody>\n</table>\n</div>"
     },
     "execution_count": 11,
     "metadata": {},
     "output_type": "execute_result"
    }
   ],
   "source": [
    "df[['Name', 'Age', 'Age_Groups']].head(10)"
   ],
   "metadata": {
    "collapsed": false,
    "ExecuteTime": {
     "end_time": "2024-03-15T11:50:55.384058Z",
     "start_time": "2024-03-15T11:50:55.378167Z"
    }
   },
   "id": "6938715ea6a36bc6",
   "execution_count": 11
  },
  {
   "cell_type": "code",
   "outputs": [
    {
     "data": {
      "text/plain": "Age_Groups\nот 20 до 30 лет        1415\nот 30 до 36 лет         379\nгруппа младше 20        262\nпенсионер старше 36      17\nName: count, dtype: int64"
     },
     "execution_count": 12,
     "metadata": {},
     "output_type": "execute_result"
    }
   ],
   "source": [
    "df['Age_Groups'].value_counts()"
   ],
   "metadata": {
    "collapsed": false,
    "ExecuteTime": {
     "end_time": "2024-03-15T11:51:07.866555Z",
     "start_time": "2024-03-15T11:51:07.862602Z"
    }
   },
   "id": "6d38e0ba5f87c789",
   "execution_count": 12
  },
  {
   "cell_type": "code",
   "outputs": [
    {
     "name": "stdout",
     "output_type": "stream",
     "text": [
      "Age_Groups\n",
      "от 20 до 30 лет        1415\n",
      "от 30 до 36 лет         379\n",
      "группа младше 20        262\n",
      "пенсионер старше 36      17\n",
      "Name: count, dtype: int64\n"
     ]
    }
   ],
   "source": [
    "counts = df['Age_Groups'].value_counts()\n",
    "print(counts)"
   ],
   "metadata": {
    "collapsed": false,
    "ExecuteTime": {
     "end_time": "2024-03-15T11:51:42.465137Z",
     "start_time": "2024-03-15T11:51:42.461164Z"
    }
   },
   "id": "566713736b943607",
   "execution_count": 13
  },
  {
   "cell_type": "code",
   "outputs": [],
   "source": [],
   "metadata": {
    "collapsed": false
   },
   "id": "ff652e850a51d185"
  }
 ],
 "metadata": {
  "kernelspec": {
   "display_name": "Python 3",
   "language": "python",
   "name": "python3"
  },
  "language_info": {
   "codemirror_mode": {
    "name": "ipython",
    "version": 2
   },
   "file_extension": ".py",
   "mimetype": "text/x-python",
   "name": "python",
   "nbconvert_exporter": "python",
   "pygments_lexer": "ipython2",
   "version": "2.7.6"
  }
 },
 "nbformat": 4,
 "nbformat_minor": 5
}
